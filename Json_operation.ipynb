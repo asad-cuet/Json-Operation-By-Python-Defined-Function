{
 "cells": [
  {
   "cell_type": "markdown",
   "metadata": {},
   "source": [
    "## Json Operation"
   ]
  },
  {
   "cell_type": "code",
   "execution_count": 1,
   "metadata": {},
   "outputs": [],
   "source": [
    "# create\n",
    "def createJson(file_name,_keys):\n",
    "    import io\n",
    "    import json\n",
    "    f = open(file_name+\".json\", \"w\")\n",
    "    f.close()\n",
    "    # Define data\n",
    "    data={}\n",
    "    for _key in _keys:\n",
    "        data[_key]=[]\n",
    "\n",
    "    # Write JSON file\n",
    "    with io.open(file_name+'.json', 'w', encoding='utf8') as outfile:\n",
    "        str_ = json.dumps(data,\n",
    "                      indent=4, sort_keys=True,\n",
    "                      separators=(',', ': '), ensure_ascii=False)\n",
    "        print(str_)\n",
    "        outfile.write(str_)"
   ]
  },
  {
   "cell_type": "code",
   "execution_count": 2,
   "metadata": {},
   "outputs": [],
   "source": [
    "#get\n",
    "def getJsonKey(file_name,key):\n",
    "  \n",
    "    import json\n",
    "\n",
    "    file_name = file_name+'.json'\n",
    "\n",
    "    with open(file_name, 'r', encoding='utf-8') as f:\n",
    "        my_data = json.load(f)\n",
    "\n",
    "        return my_data[key]  #{'name': 'Alice', 'age': 30}\n",
    "\n"
   ]
  },
  {
   "cell_type": "code",
   "execution_count": 3,
   "metadata": {},
   "outputs": [],
   "source": [
    "def addJson(filename,key,new_data_dict):\n",
    "    import json\n",
    "    filename=filename+'.json'\n",
    "    with open(filename,'r+') as file:\n",
    "        # First we load existing data into a dict.\n",
    "        file_data = json.load(file)\n",
    "        # Join new_data with file_data inside emp_details\n",
    "        file_data[key].append(new_data_dict)\n",
    "        # Sets file's current position at offset.\n",
    "        file.seek(0)\n",
    "        # convert back to json.\n",
    "        json.dump(file_data, file, indent = 4)\n",
    " "
   ]
  },
  {
   "cell_type": "code",
   "execution_count": 4,
   "metadata": {},
   "outputs": [],
   "source": [
    "# Search\n",
    "# if found return index number\n",
    "# if not found return False\n",
    "def searchValue(file_name,key,val):\n",
    "    import json\n",
    "    import re\n",
    "    with open(file_name+\".json\", \"r+\") as jsonFile:\n",
    "        data = json.load(jsonFile)\n",
    "    arr_of_dict = data[key] \n",
    "    cnt=0\n",
    "    for dict_item in arr_of_dict:\n",
    "        for item in dict_item:\n",
    "            result = re.search(str(val).lower(), str(dict_item[item]).lower())\n",
    "            if(result):\n",
    "                return cnt\n",
    "        cnt=cnt+1\n",
    "    return 'False'\n",
    "\n",
    "# return muliple index\n",
    "def searchValues(file_name,key,val):\n",
    "    import json\n",
    "    import re\n",
    "    index=[]\n",
    "    with open(file_name+\".json\", \"r+\") as jsonFile:\n",
    "        data = json.load(jsonFile)\n",
    "    arr_of_dict = data[key] \n",
    "    cnt=0\n",
    "    for dict_item in arr_of_dict:\n",
    "        for item in dict_item:\n",
    "            result = re.search(str(val).lower(), str(dict_item[item]).lower())\n",
    "            if(result):\n",
    "                index.append(cnt)\n",
    "        cnt=cnt+1\n",
    "    if(len(index)):\n",
    "        return index\n",
    "    else:\n",
    "        return 'False'"
   ]
  },
  {
   "cell_type": "code",
   "execution_count": 5,
   "metadata": {},
   "outputs": [],
   "source": [
    "def getSingleDict(file_name,key,index):\n",
    "    import json\n",
    "    with open(file_name+\".json\", \"r+\") as jsonFile:\n",
    "        data = json.load(jsonFile)\n",
    "    arr_of_dict = data[key][index]\n",
    "    arr_of_dict['index']=index\n",
    "    return arr_of_dict\n",
    "\n",
    "def getMultipleDict(file_name,key,indexs):\n",
    "    import json\n",
    "    with open(file_name+\".json\", \"r+\") as jsonFile:\n",
    "        data = json.load(jsonFile)\n",
    "    multiple_dict=[]\n",
    "    for index in indexs:\n",
    "        arr_of_dict = data[key][index]\n",
    "        arr_of_dict['index']=index\n",
    "        multiple_dict.append(arr_of_dict)\n",
    "    return multiple_dict"
   ]
  },
  {
   "cell_type": "code",
   "execution_count": 6,
   "metadata": {},
   "outputs": [],
   "source": [
    "# update a specific dictionary of json data\n",
    "def updateJsonDict(file_name,key,index,new_dict_data):  \n",
    "    import json\n",
    "    import io\n",
    "    with open(file_name+\".json\", \"r+\") as jsonFile:\n",
    "        data = json.load(jsonFile)\n",
    "        #updating\n",
    "        data[key][index]=new_dict_data\n",
    "        print(data)\n",
    "        # Saving data in file\n",
    "        with io.open(file_name+'.json', 'w', encoding='utf8') as outfile:\n",
    "            str_ = json.dumps(data,indent=4,separators=(',', ': '), ensure_ascii=False)\n",
    "            outfile.write(str_)\n",
    "        jsonFile.close()"
   ]
  },
  {
   "cell_type": "code",
   "execution_count": 7,
   "metadata": {},
   "outputs": [],
   "source": [
    "# update a specific value of json data\n",
    "def updateJsonValue(file_name,key,index,dict_key,new_value):  \n",
    "    import json\n",
    "    import io\n",
    "    with open(file_name+\".json\", \"r+\") as jsonFile:\n",
    "        data = json.load(jsonFile)\n",
    "        #updating\n",
    "        data[key][index][dict_key]=new_value\n",
    "        # Saving data in file\n",
    "        with io.open(file_name+'.json', 'w', encoding='utf8') as outfile:\n",
    "            str_ = json.dumps(data,indent=4,separators=(',', ': '), ensure_ascii=False)\n",
    "            outfile.write(str_)\n",
    "        jsonFile.close()"
   ]
  },
  {
   "cell_type": "markdown",
   "metadata": {},
   "source": [
    "## Some Usage"
   ]
  },
  {
   "cell_type": "markdown",
   "metadata": {},
   "source": [
    "### Create"
   ]
  },
  {
   "cell_type": "code",
   "execution_count": 8,
   "metadata": {},
   "outputs": [
    {
     "name": "stdout",
     "output_type": "stream",
     "text": [
      "{\n",
      "    \"book\": [],\n",
      "    \"student\": [],\n",
      "    \"student_log\": []\n",
      "}\n"
     ]
    }
   ],
   "source": [
    "createJson('storage',['book','student','student_log'])"
   ]
  },
  {
   "cell_type": "markdown",
   "metadata": {},
   "source": [
    "### Get"
   ]
  },
  {
   "cell_type": "code",
   "execution_count": 9,
   "metadata": {},
   "outputs": [
    {
     "data": {
      "text/plain": [
       "[]"
      ]
     },
     "execution_count": 9,
     "metadata": {},
     "output_type": "execute_result"
    }
   ],
   "source": [
    "getJsonKey('storage','book')"
   ]
  },
  {
   "cell_type": "markdown",
   "metadata": {},
   "source": [
    "### Append"
   ]
  },
  {
   "cell_type": "code",
   "execution_count": 10,
   "metadata": {},
   "outputs": [],
   "source": [
    "new_data={\n",
    "            'name' : 'John Doe',\n",
    "            'department' : 'Marketing',\n",
    "            'place' : 'Remote'\n",
    "        }\n",
    "addJson('storage','book',new_data)"
   ]
  },
  {
   "cell_type": "code",
   "execution_count": 11,
   "metadata": {},
   "outputs": [
    {
     "data": {
      "text/plain": [
       "[{'name': 'John Doe', 'department': 'Marketing', 'place': 'Remote'}]"
      ]
     },
     "execution_count": 11,
     "metadata": {},
     "output_type": "execute_result"
    }
   ],
   "source": [
    "getJsonKey('storage','book')"
   ]
  },
  {
   "cell_type": "markdown",
   "metadata": {},
   "source": [
    "### update json"
   ]
  },
  {
   "cell_type": "code",
   "execution_count": 12,
   "metadata": {},
   "outputs": [
    {
     "name": "stdout",
     "output_type": "stream",
     "text": [
      "{'book': [{'name': 'Asad', 'department': 'Marketing', 'place': 'Remote'}], 'student': [], 'student_log': []}\n"
     ]
    }
   ],
   "source": [
    "new_data={\n",
    "            'name' : 'Asad',\n",
    "            'department' : 'Marketing',\n",
    "            'place' : 'Remote'\n",
    "        }\n",
    "updateJsonDict('storage','book',0,new_data)"
   ]
  },
  {
   "cell_type": "code",
   "execution_count": 13,
   "metadata": {},
   "outputs": [],
   "source": [
    "updateJsonValue('storage','book',0,'name','Asadul')"
   ]
  },
  {
   "cell_type": "markdown",
   "metadata": {},
   "source": [
    "### Search"
   ]
  },
  {
   "cell_type": "code",
   "execution_count": 14,
   "metadata": {},
   "outputs": [
    {
     "name": "stdout",
     "output_type": "stream",
     "text": [
      "0\n"
     ]
    }
   ],
   "source": [
    "print(searchValue('storage','book','asad'))"
   ]
  },
  {
   "cell_type": "markdown",
   "metadata": {},
   "source": [
    "### get Single data"
   ]
  },
  {
   "cell_type": "code",
   "execution_count": 15,
   "metadata": {},
   "outputs": [
    {
     "data": {
      "text/plain": [
       "{'name': 'Asadul', 'department': 'Marketing', 'place': 'Remote', 'index': 0}"
      ]
     },
     "execution_count": 15,
     "metadata": {},
     "output_type": "execute_result"
    }
   ],
   "source": [
    "getSingleDict('storage','book',0)"
   ]
  }
 ],
 "metadata": {
  "language_info": {
   "codemirror_mode": {
    "name": "ipython",
    "version": 3
   },
   "file_extension": ".py",
   "mimetype": "text/x-python",
   "name": "python",
   "nbconvert_exporter": "python",
   "pygments_lexer": "ipython3",
   "version": "3.9.7"
  }
 },
 "nbformat": 4,
 "nbformat_minor": 4
}